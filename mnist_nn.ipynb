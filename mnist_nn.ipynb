{
 "cells": [
  {
   "cell_type": "code",
   "execution_count": 1,
   "metadata": {},
   "outputs": [
    {
     "name": "stdout",
     "output_type": "stream",
     "text": [
      "cuda\n"
     ]
    }
   ],
   "source": [
    "# Import stuff\n",
    "import numpy as np\n",
    "import matplotlib.pyplot as plt\n",
    "from sklearn.datasets import fetch_openml\n",
    "import torch\n",
    "import torch.nn as nn\n",
    "import torch.nn.functional as F\n",
    "import torch.optim as optim\n",
    "from torchvision import utils\n",
    "\n",
    "# Set random seed\n",
    "np.random.seed(42)\n",
    "torch.manual_seed(42)\n",
    "\n",
    "# Use GPU if available\n",
    "device = torch.device(\"cuda\" if torch.cuda.is_available() else \"cpu\")\n",
    "print(device)"
   ]
  },
  {
   "cell_type": "code",
   "execution_count": 2,
   "metadata": {},
   "outputs": [
    {
     "name": "stdout",
     "output_type": "stream",
     "text": [
      "torch.Size([60000, 784])\n",
      "torch.Size([60000])\n",
      "torch.Size([10000, 784])\n",
      "torch.Size([10000])\n"
     ]
    }
   ],
   "source": [
    "# Fetch the MNIST dataset\n",
    "mnist_dir = \"data/MNIST_sklearn\"\n",
    "X, y = fetch_openml('mnist_784', version=1, return_X_y=True, data_home=mnist_dir)\n",
    "\n",
    "# Scale feature values between 0 and 1\n",
    "X = X / 255.0\n",
    "X = X.astype(np.float32)\n",
    "\n",
    "# Convert targets to integers\n",
    "y = y.astype(int)\n",
    "\n",
    "# Shuffle the dataset\n",
    "shuffled_indices = np.random.permutation(len(X))\n",
    "X = X[shuffled_indices]\n",
    "y = y[shuffled_indices]\n",
    "\n",
    "# Split into training and test set\n",
    "X_train = X[:60000]\n",
    "y_train = y[:60000]\n",
    "X_test = X[60000:]\n",
    "y_test = y[60000:]\n",
    "\n",
    "# Convert to tensors\n",
    "X_train = torch.from_numpy(X_train)\n",
    "y_train = torch.from_numpy(y_train)\n",
    "X_test = torch.from_numpy(X_test)\n",
    "y_test = torch.from_numpy(y_test)\n",
    "\n",
    "print(X_train.shape)\n",
    "print(y_train.shape)\n",
    "print(X_test.shape)\n",
    "print(y_test.shape)"
   ]
  },
  {
   "cell_type": "code",
   "execution_count": 3,
   "metadata": {},
   "outputs": [
    {
     "data": {
      "image/png": "[encoded data removed]",
      "text/plain": [
       "<Figure size 432x288 with 1 Axes>"
      ]
     },
     "metadata": {
      "needs_background": "light"
     },
     "output_type": "display_data"
    },
    {
     "name": "stdout",
     "output_type": "stream",
     "text": [
      "tensor([8, 4, 8, 7, 7, 0, 6, 2, 7, 4])\n"
     ]
    }
   ],
   "source": [
    "# Function to show an image\n",
    "def imshow(image):\n",
    "    image_np = image.numpy()\n",
    "    image_2d = image_np.reshape(28, 28)\n",
    "    plt.imshow(image_2d, cmap='gray')\n",
    "    plt.show()\n",
    "    \n",
    "# Function to show images in a grid\n",
    "def imshow_grid(images, images_per_row=10):\n",
    "    images_2d = images.view(-1, 1, 28, 28)\n",
    "    images_grid = utils.make_grid(images_2d, nrow=images_per_row).permute(1, 2, 0)\n",
    "    image_np = images_grid.numpy()\n",
    "    plt.imshow(image_np, cmap='gray')\n",
    "    plt.show()\n",
    "        \n",
    "imshow_grid(X_train[:10])\n",
    "print(y_train[:10])"
   ]
  },
  {
   "cell_type": "code",
   "execution_count": 4,
   "metadata": {},
   "outputs": [],
   "source": [
    "# Create a class for the neural network\n",
    "class Net(nn.Module):\n",
    "    def __init__(self):\n",
    "        super().__init__()\n",
    "        self.fc1 = nn.Linear(784, 128)\n",
    "        self.fc2 = nn.Linear(128, 10)\n",
    "        \n",
    "    def forward(self, x):\n",
    "        x = F.relu(self.fc1(x))\n",
    "        x = self.fc2(x)\n",
    "        return x"
   ]
  },
  {
   "cell_type": "code",
   "execution_count": 5,
   "metadata": {},
   "outputs": [],
   "source": [
    "# A function to fetch batches of data\n",
    "def fetch_batch(X, y, batch_size=256):\n",
    "    shuffled_indices = np.random.permutation(len(X))\n",
    "    for i in range(0, len(X), batch_size):\n",
    "        X_batch = X[shuffled_indices[i:i+batch_size]]\n",
    "        y_batch = y[shuffled_indices[i:i+batch_size]]\n",
    "        yield X_batch, y_batch\n",
    "\n",
    "# A function to train the model for one epoch\n",
    "def train(model, optimizer, show_loss=False):\n",
    "    model.train()  # set the model to training mode\n",
    "    for data, target in fetch_batch(X_train, y_train, 256):\n",
    "        data, target = data.to(device), target.to(device)  # send data to the specified device\n",
    "        optimizer.zero_grad()  # reset gradients\n",
    "        output = model(data)  # perform forward propagation\n",
    "        loss = F.cross_entropy(output, target)  # compute loss\n",
    "        loss.backward()  # perform backward propagation\n",
    "        optimizer.step()  # take an optimization step\n",
    "        if show_loss:\n",
    "            print(\"Loss:\", loss.item() / len(data))\n",
    "            \n",
    "# A function to evaluate the model\n",
    "def test(model):\n",
    "    model.eval()  # set the model to evaluation mode\n",
    "    test_loss = 0\n",
    "    correct = 0\n",
    "    with torch.no_grad():\n",
    "        for data, target in fetch_batch(X_test, y_test, 256):\n",
    "            data, target = data.to(device), target.to(device)\n",
    "            output = model(data)\n",
    "            test_loss += F.cross_entropy(output, target).sum().item()\n",
    "            predictions = output.argmax(dim=1)\n",
    "            correct += (predictions == target).sum().item()\n",
    "            \n",
    "    print(\"Average loss: {:.4f},  Accuracy = {:.1f}%\\n\".format(test_loss/len(X_test), 100.0*correct/len(X_test)))"
   ]
  },
  {
   "cell_type": "code",
   "execution_count": 6,
   "metadata": {},
   "outputs": [],
   "source": [
    "# Create the model\n",
    "model = Net().to(device)\n",
    "\n",
    "# Create the optimizer\n",
    "learning_rate = 0.001\n",
    "optimizer = optim.Adam(model.parameters(), lr=learning_rate)"
   ]
  },
  {
   "cell_type": "code",
   "execution_count": 7,
   "metadata": {},
   "outputs": [
    {
     "name": "stdout",
     "output_type": "stream",
     "text": [
      "Epoch: 0\n",
      "Average loss: 0.0011,  Accuracy = 92.2%\n",
      "\n",
      "Epoch: 1\n",
      "Average loss: 0.0008,  Accuracy = 94.2%\n",
      "\n",
      "Epoch: 2\n",
      "Average loss: 0.0006,  Accuracy = 95.4%\n",
      "\n",
      "Epoch: 3\n",
      "Average loss: 0.0006,  Accuracy = 96.0%\n",
      "\n",
      "Epoch: 4\n",
      "Average loss: 0.0005,  Accuracy = 96.3%\n",
      "\n",
      "Epoch: 5\n",
      "Average loss: 0.0004,  Accuracy = 96.8%\n",
      "\n",
      "Epoch: 6\n",
      "Average loss: 0.0004,  Accuracy = 96.9%\n",
      "\n",
      "Epoch: 7\n",
      "Average loss: 0.0004,  Accuracy = 96.9%\n",
      "\n",
      "Epoch: 8\n",
      "Average loss: 0.0004,  Accuracy = 97.1%\n",
      "\n",
      "Epoch: 9\n",
      "Average loss: 0.0004,  Accuracy = 97.2%\n",
      "\n"
     ]
    }
   ],
   "source": [
    "# Train and test the model\n",
    "n_epochs = 10\n",
    "for epoch in range(n_epochs):\n",
    "    print(\"Epoch:\", epoch)\n",
    "    train(model, optimizer)\n",
    "    test(model)"
   ]
  },
  {
   "cell_type": "code",
   "execution_count": 8,
   "metadata": {},
   "outputs": [
    {
     "data": {
      "image/png": "[encoded data removed]",
      "text/plain": [
       "<Figure size 432x288 with 1 Axes>"
      ]
     },
     "metadata": {
      "needs_background": "light"
     },
     "output_type": "display_data"
    },
    {
     "name": "stdout",
     "output_type": "stream",
     "text": [
      "Predictions: [0, 0, 6, 0, 4, 1, 3, 5, 8, 4]\n"
     ]
    }
   ],
   "source": [
    "# Show some images\n",
    "images = X_test[:10]\n",
    "imshow_grid(images)\n",
    "\n",
    "# Use the model to predict the labels\n",
    "images = images.to(device)\n",
    "output = model(images)\n",
    "predictions = output.argmax(dim=1)\n",
    "print(\"Predictions:\", predictions.tolist())"
   ]
  }
 ],
 "metadata": {
  "kernelspec": {
   "display_name": "Python 3",
   "language": "python",
   "name": "python3"
  },
  "language_info": {
   "codemirror_mode": {
    "name": "ipython",
    "version": 3
   },
   "file_extension": ".py",
   "mimetype": "text/x-python",
   "name": "python",
   "nbconvert_exporter": "python",
   "pygments_lexer": "ipython3",
   "version": "3.7.4"
  }
 },
 "nbformat": 4,
 "nbformat_minor": 2
}
